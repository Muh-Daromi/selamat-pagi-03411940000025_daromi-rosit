{
 "cells": [
  {
   "cell_type": "code",
   "execution_count": 31,
   "metadata": {},
   "outputs": [
    {
     "name": "stdout",
     "output_type": "stream",
     "text": [
      "Masa - masa emas\n"
     ]
    }
   ],
   "source": [
    "umur = 37\n",
    "if umur > 18 and umur < 30:\n",
    "    print(\"Sudah beranjak dewasa\")\n",
    "elif umur > 30 and umur < 45:\n",
    "    print(\"Masa - masa emas\")\n",
    "elif umur > 45 and umur < 55:\n",
    "    print(\"Memasuki masa paruh baya\")\n",
    "elif umur > 55:\n",
    "    print(\"Masa - masa manula\")\n",
    "else:\n",
    "    print(\"Masih dibawah umur\")"
   ]
  },
  {
   "cell_type": "code",
   "execution_count": 32,
   "metadata": {},
   "outputs": [
    {
     "name": "stdout",
     "output_type": "stream",
     "text": [
      "Masih dibawah umur\n"
     ]
    }
   ],
   "source": [
    "umur = 5\n",
    "if umur > 18 and umur < 30:\n",
    "    print(\"Sudah beranjak dewasa\")\n",
    "elif umur > 30 and umur < 45:\n",
    "    print(\"Masa - masa emas\")\n",
    "elif umur > 45 and umur < 55:\n",
    "    print(\"Memasuki masa paruh baya\")\n",
    "elif umur > 55:\n",
    "    print(\"Masa - masa manula\")\n",
    "else:\n",
    "    print(\"Masih dibawah umur\")"
   ]
  },
  {
   "cell_type": "code",
   "execution_count": null,
   "metadata": {},
   "outputs": [],
   "source": []
  }
 ],
 "metadata": {
  "kernelspec": {
   "display_name": "Python 3",
   "language": "python",
   "name": "python3"
  },
  "language_info": {
   "codemirror_mode": {
    "name": "ipython",
    "version": 3
   },
   "file_extension": ".py",
   "mimetype": "text/x-python",
   "name": "python",
   "nbconvert_exporter": "python",
   "pygments_lexer": "ipython3",
   "version": "3.7.4"
  }
 },
 "nbformat": 4,
 "nbformat_minor": 2
}
